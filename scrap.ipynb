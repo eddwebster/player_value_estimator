{
 "cells": [
  {
   "cell_type": "code",
   "execution_count": null,
   "metadata": {},
   "outputs": [],
   "source": [
    "pip install bs4"
   ]
  },
  {
   "cell_type": "code",
   "execution_count": null,
   "metadata": {},
   "outputs": [],
   "source": [
    "pip install html5lib"
   ]
  },
  {
   "cell_type": "code",
   "execution_count": null,
   "metadata": {},
   "outputs": [],
   "source": [
    "from selenium import webdriver \n",
    "from selenium.common.exceptions import NoSuchElementException\n",
    "from selenium.webdriver.chrome.options import Options\n",
    "from selenium.webdriver.common.by import By\n",
    "from bs4 import BeautifulSoup\n",
    "import requests"
   ]
  },
  {
   "cell_type": "code",
   "execution_count": null,
   "metadata": {},
   "outputs": [],
   "source": [
    "URL = \"https://www.transfermarkt.co.uk/premier-league/marktwerte/wettbewerb/GB1\""
   ]
  },
  {
   "cell_type": "code",
   "execution_count": null,
   "metadata": {},
   "outputs": [],
   "source": [
    "\n",
    "headers = {'User-Agent': \"Mozilla/5.0 (Windows NT 10.0; Win64; x64) AppleWebKit/537.36 (KHTML, like Gecko) Chrome/111.0.0.0 Safari/537.36\"}\n",
    "r = requests.get(url=URL, headers=headers)\n",
    "soup = BeautifulSoup(r.content, 'html.parser')\n",
    "print(soup.prettify())"
   ]
  },
  {
   "cell_type": "code",
   "execution_count": 215,
   "metadata": {},
   "outputs": [],
   "source": [
    "players_list = []\n",
    "age_list = []\n",
    "position_list = []\n",
    "value_list = []\n",
    "nationality_list = []"
   ]
  },
  {
   "cell_type": "code",
   "execution_count": null,
   "metadata": {},
   "outputs": [],
   "source": [
    "players = soup.find_all(\"td\", class_=\"hauptlink\")\n",
    "    "
   ]
  },
  {
   "cell_type": "code",
   "execution_count": null,
   "metadata": {},
   "outputs": [],
   "source": [
    "players"
   ]
  },
  {
   "cell_type": "code",
   "execution_count": null,
   "metadata": {},
   "outputs": [],
   "source": [
    "for player in players:\n",
    "    players_list.append(player.text)"
   ]
  },
  {
   "cell_type": "code",
   "execution_count": null,
   "metadata": {},
   "outputs": [],
   "source": [
    "players_list"
   ]
  },
  {
   "cell_type": "code",
   "execution_count": null,
   "metadata": {},
   "outputs": [],
   "source": [
    "\n",
    "i = 1\n",
    "while i < len(players_list):\n",
    "    del players_list[i]\n",
    "    i += 1\n",
    "print(players_list)\n"
   ]
  },
  {
   "cell_type": "code",
   "execution_count": 216,
   "metadata": {},
   "outputs": [],
   "source": [
    "ages = soup.find_all(\"td\", class_=\"zentriert\")"
   ]
  },
  {
   "cell_type": "code",
   "execution_count": null,
   "metadata": {},
   "outputs": [],
   "source": [
    "ages"
   ]
  },
  {
   "cell_type": "code",
   "execution_count": 217,
   "metadata": {},
   "outputs": [],
   "source": [
    "for age in ages:\n",
    "    age_list.append(age.text)"
   ]
  },
  {
   "cell_type": "code",
   "execution_count": 230,
   "metadata": {},
   "outputs": [
    {
     "data": {
      "text/plain": [
       "['1',\n",
       " '',\n",
       " '22',\n",
       " '',\n",
       " '2',\n",
       " '',\n",
       " '22',\n",
       " '',\n",
       " '3',\n",
       " '',\n",
       " '21',\n",
       " '',\n",
       " '4',\n",
       " '',\n",
       " '29',\n",
       " '',\n",
       " '5',\n",
       " '',\n",
       " '22',\n",
       " '',\n",
       " '6',\n",
       " '',\n",
       " '24',\n",
       " '',\n",
       " '7',\n",
       " '',\n",
       " '26',\n",
       " '',\n",
       " '8',\n",
       " '',\n",
       " '24',\n",
       " '',\n",
       " '9',\n",
       " '',\n",
       " '31',\n",
       " '',\n",
       " '10',\n",
       " '',\n",
       " '28',\n",
       " '',\n",
       " '11',\n",
       " '',\n",
       " '25',\n",
       " '',\n",
       " '12',\n",
       " '',\n",
       " '25',\n",
       " '',\n",
       " '13',\n",
       " '',\n",
       " '26',\n",
       " '',\n",
       " '14',\n",
       " '',\n",
       " '25',\n",
       " '',\n",
       " '15',\n",
       " '',\n",
       " '28',\n",
       " '',\n",
       " '16',\n",
       " '',\n",
       " '30',\n",
       " '',\n",
       " '17',\n",
       " '',\n",
       " '23',\n",
       " '',\n",
       " '18',\n",
       " '',\n",
       " '27',\n",
       " '',\n",
       " '19',\n",
       " '',\n",
       " '23',\n",
       " '',\n",
       " '20',\n",
       " '',\n",
       " '21',\n",
       " '',\n",
       " '21',\n",
       " '',\n",
       " '23',\n",
       " '',\n",
       " '22',\n",
       " '',\n",
       " '22',\n",
       " '',\n",
       " '23',\n",
       " '',\n",
       " '24',\n",
       " '',\n",
       " '24',\n",
       " '',\n",
       " '24',\n",
       " '',\n",
       " '25',\n",
       " '',\n",
       " '23',\n",
       " '',\n",
       " '1',\n",
       " '',\n",
       " '2',\n",
       " '',\n",
       " '3',\n",
       " '',\n",
       " '4',\n",
       " '',\n",
       " '5',\n",
       " '']"
      ]
     },
     "execution_count": 230,
     "metadata": {},
     "output_type": "execute_result"
    }
   ],
   "source": [
    "age_list"
   ]
  },
  {
   "cell_type": "code",
   "execution_count": 232,
   "metadata": {},
   "outputs": [
    {
     "name": "stdout",
     "output_type": "stream",
     "text": [
      "['22', '22', '21', '29', '22', '24', '26', '24', '31', '28', '25', '25', '26', '25', '28', '30', '23', '27', '23', '21', '23', '22', '24', '24', '23', '2', '4']\n"
     ]
    }
   ],
   "source": [
    "new_age_list = []\n",
    "for i in range(2, len(age_list), 4):\n",
    "    new_age_list.append(age_list[i])\n",
    "print(new_age_list)"
   ]
  },
  {
   "cell_type": "code",
   "execution_count": null,
   "metadata": {},
   "outputs": [],
   "source": [
    "new_age_list"
   ]
  },
  {
   "cell_type": "code",
   "execution_count": null,
   "metadata": {},
   "outputs": [],
   "source": []
  }
 ],
 "metadata": {
  "kernelspec": {
   "display_name": "Python 3",
   "language": "python",
   "name": "python3"
  },
  "language_info": {
   "codemirror_mode": {
    "name": "ipython",
    "version": 3
   },
   "file_extension": ".py",
   "mimetype": "text/x-python",
   "name": "python",
   "nbconvert_exporter": "python",
   "pygments_lexer": "ipython3",
   "version": "3.11.1"
  },
  "orig_nbformat": 4
 },
 "nbformat": 4,
 "nbformat_minor": 2
}
