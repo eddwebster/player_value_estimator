{
 "cells": [
  {
   "cell_type": "code",
   "execution_count": null,
   "metadata": {},
   "outputs": [],
   "source": [
    "pip install bs4"
   ]
  },
  {
   "cell_type": "code",
   "execution_count": null,
   "metadata": {},
   "outputs": [],
   "source": [
    "pip install html5lib"
   ]
  },
  {
   "cell_type": "code",
   "execution_count": null,
   "metadata": {},
   "outputs": [],
   "source": [
    "from selenium import webdriver \n",
    "from selenium.common.exceptions import NoSuchElementException\n",
    "from selenium.webdriver.chrome.options import Options\n",
    "from selenium.webdriver.common.by import By\n",
    "from bs4 import BeautifulSoup\n",
    "import requests"
   ]
  },
  {
   "cell_type": "code",
   "execution_count": null,
   "metadata": {},
   "outputs": [],
   "source": [
    "URL = \"https://www.transfermarkt.co.uk/premier-league/marktwerte/wettbewerb/GB1\""
   ]
  },
  {
   "cell_type": "code",
   "execution_count": null,
   "metadata": {},
   "outputs": [],
   "source": [
    "\n",
    "headers = {'User-Agent': \"Mozilla/5.0 (Windows NT 10.0; Win64; x64) AppleWebKit/537.36 (KHTML, like Gecko) Chrome/111.0.0.0 Safari/537.36\"}\n",
    "r = requests.get(url=URL, headers=headers)\n",
    "soup = BeautifulSoup(r.content, 'html.parser')\n",
    "print(soup.prettify())"
   ]
  },
  {
   "cell_type": "code",
   "execution_count": null,
   "metadata": {},
   "outputs": [],
   "source": [
    "players_list = []\n",
    "age_list = []\n",
    "position_list = []\n",
    "value_list = []\n",
    "nationality_list = []"
   ]
  },
  {
   "cell_type": "code",
   "execution_count": null,
   "metadata": {},
   "outputs": [],
   "source": [
    "players = soup.find_all(\"td\", class_=\"hauptlink\")\n",
    "    "
   ]
  },
  {
   "cell_type": "code",
   "execution_count": null,
   "metadata": {},
   "outputs": [],
   "source": [
    "players"
   ]
  },
  {
   "cell_type": "code",
   "execution_count": null,
   "metadata": {},
   "outputs": [],
   "source": [
    "for player in players:\n",
    "    players_list.append(player.text)"
   ]
  },
  {
   "cell_type": "code",
   "execution_count": null,
   "metadata": {},
   "outputs": [],
   "source": [
    "players_list"
   ]
  },
  {
   "cell_type": "code",
   "execution_count": null,
   "metadata": {},
   "outputs": [],
   "source": [
    "\n",
    "i = 1\n",
    "while i < len(players_list):\n",
    "    del players_list[i]\n",
    "    i += 1\n",
    "print(players_list)\n"
   ]
  },
  {
   "cell_type": "code",
   "execution_count": null,
   "metadata": {},
   "outputs": [],
   "source": [
    "ages = soup.find_all(\"td\", class_=\"zentriert\")"
   ]
  },
  {
   "cell_type": "code",
   "execution_count": null,
   "metadata": {},
   "outputs": [],
   "source": [
    "ages"
   ]
  },
  {
   "cell_type": "code",
   "execution_count": null,
   "metadata": {},
   "outputs": [],
   "source": [
    "for age in ages:\n",
    "    age_list.append(age.text)"
   ]
  },
  {
   "cell_type": "code",
   "execution_count": null,
   "metadata": {},
   "outputs": [],
   "source": [
    "age_list"
   ]
  },
  {
   "cell_type": "code",
   "execution_count": null,
   "metadata": {},
   "outputs": [],
   "source": [
    "new_age_list = []\n",
    "for i in range(2, len(age_list), 4):\n",
    "    new_age_list.append(age_list[i])\n",
    "print(new_age_list)"
   ]
  },
  {
   "cell_type": "code",
   "execution_count": null,
   "metadata": {},
   "outputs": [],
   "source": [
    "new_age_list"
   ]
  },
  {
   "cell_type": "code",
   "execution_count": null,
   "metadata": {},
   "outputs": [],
   "source": [
    "nationality = soup.find_all(\"td\", class_=\"zentriert\")"
   ]
  },
  {
   "cell_type": "code",
   "execution_count": null,
   "metadata": {},
   "outputs": [],
   "source": [
    "nationality"
   ]
  },
  {
   "cell_type": "code",
   "execution_count": null,
   "metadata": {},
   "outputs": [],
   "source": [
    "\n",
    "for nation in nationality:\n",
    "    flags = nation.find_all('img')  \n",
    "    if flags:  \n",
    "        first_flag = flags[0]  \n",
    "        first_nationality = first_flag['title']\n",
    "        nationality_list.append(first_nationality)\n",
    "        print(first_nationality)\n"
   ]
  },
  {
   "cell_type": "code",
   "execution_count": null,
   "metadata": {},
   "outputs": [],
   "source": [
    "i = 1\n",
    "while i < len(nationality_list):\n",
    "    del nationality_list[i]\n",
    "    i += 1\n",
    "print(nationality_list)"
   ]
  },
  {
   "cell_type": "code",
   "execution_count": 266,
   "metadata": {},
   "outputs": [],
   "source": [
    "values = soup.find_all(\"td\", class_=\"rechts hauptlink\")"
   ]
  },
  {
   "cell_type": "code",
   "execution_count": 267,
   "metadata": {},
   "outputs": [
    {
     "data": {
      "text/plain": [
       "[<td class=\"rechts hauptlink\"><a href=\"/erling-haaland/marktwertverlauf/spieler/418560\">€170.00m</a> </td>,\n",
       " <td class=\"rechts hauptlink\"><a href=\"/phil-foden/marktwertverlauf/spieler/406635\">€110.00m</a> </td>,\n",
       " <td class=\"rechts hauptlink\"><a href=\"/bukayo-saka/marktwertverlauf/spieler/433177\">€110.00m</a> <span class=\"icons_sprite green-arrow-ten\" title=\"Previous market value: €100.00m\"> </span></td>,\n",
       " <td class=\"rechts hauptlink\"><a href=\"/harry-kane/marktwertverlauf/spieler/132098\">€90.00m</a> </td>,\n",
       " <td class=\"rechts hauptlink\"><a href=\"/enzo-fernandez/marktwertverlauf/spieler/648195\">€85.00m</a> <span class=\"icons_sprite green-arrow-ten\" title=\"Previous market value: €55.00m\"> </span></td>,\n",
       " <td class=\"rechts hauptlink\"><a href=\"/declan-rice/marktwertverlauf/spieler/357662\">€80.00m</a> </td>,\n",
       " <td class=\"rechts hauptlink\"><a href=\"/rodri/marktwertverlauf/spieler/357565\">€80.00m</a> </td>,\n",
       " <td class=\"rechts hauptlink\"><a href=\"/martin-odegaard/marktwertverlauf/spieler/316264\">€80.00m</a> <span class=\"icons_sprite green-arrow-ten\" title=\"Previous market value: €60.00m\"> </span></td>,\n",
       " <td class=\"rechts hauptlink\"><a href=\"/kevin-de-bruyne/marktwertverlauf/spieler/88755\">€80.00m</a> </td>,\n",
       " <td class=\"rechts hauptlink\"><a href=\"/bernardo-silva/marktwertverlauf/spieler/241641\">€80.00m</a> </td>,\n",
       " <td class=\"rechts hauptlink\"><a href=\"/marcus-rashford/marktwertverlauf/spieler/258923\">€80.00m</a> <span class=\"icons_sprite green-arrow-ten\" title=\"Previous market value: €55.00m\"> </span></td>,\n",
       " <td class=\"rechts hauptlink\"><a href=\"/gabriel-jesus/marktwertverlauf/spieler/363205\">€75.00m</a> </td>,\n",
       " <td class=\"rechts hauptlink\"><a href=\"/luis-diaz/marktwertverlauf/spieler/480692\">€75.00m</a> </td>,\n",
       " <td class=\"rechts hauptlink\"><a href=\"/ruben-dias/marktwertverlauf/spieler/258004\">€75.00m</a> </td>,\n",
       " <td class=\"rechts hauptlink\"><a href=\"/bruno-fernandes/marktwertverlauf/spieler/240306\">€75.00m</a> </td>,\n",
       " <td class=\"rechts hauptlink\"><a href=\"/mohamed-salah/marktwertverlauf/spieler/148455\">€70.00m</a> <span class=\"icons_sprite red-arrow-ten\" title=\"Previous market value: €80.00m\"> </span></td>,\n",
       " <td class=\"rechts hauptlink\"><a href=\"/reece-james/marktwertverlauf/spieler/472423\">€70.00m</a> </td>,\n",
       " <td class=\"rechts hauptlink\"><a href=\"/jack-grealish/marktwertverlauf/spieler/203460\">€70.00m</a> </td>,\n",
       " <td class=\"rechts hauptlink\"><a href=\"/darwin-nunez/marktwertverlauf/spieler/546543\">€70.00m</a> </td>,\n",
       " <td class=\"rechts hauptlink\"><a href=\"/gabriel-martinelli/marktwertverlauf/spieler/655488\">€70.00m</a> <span class=\"icons_sprite green-arrow-ten\" title=\"Previous market value: €60.00m\"> </span></td>,\n",
       " <td class=\"rechts hauptlink\"><a href=\"/antony/marktwertverlauf/spieler/602105\">€70.00m</a> <span class=\"icons_sprite red-arrow-ten\" title=\"Previous market value: €75.00m\"> </span></td>,\n",
       " <td class=\"rechts hauptlink\"><a href=\"/wesley-fofana/marktwertverlauf/spieler/475411\">€65.00m</a> </td>,\n",
       " <td class=\"rechts hauptlink\"><a href=\"/mason-mount/marktwertverlauf/spieler/346483\">€65.00m</a> <span class=\"icons_sprite red-arrow-ten\" title=\"Previous market value: €75.00m\"> </span></td>,\n",
       " <td class=\"rechts hauptlink\"><a href=\"/trent-alexander-arnold/marktwertverlauf/spieler/314353\">€65.00m</a> <span class=\"icons_sprite red-arrow-ten\" title=\"Previous market value: €70.00m\"> </span></td>,\n",
       " <td class=\"rechts hauptlink\"><a href=\"/cody-gakpo/marktwertverlauf/spieler/434675\">€60.00m</a> </td>,\n",
       " <td class=\"rechts hauptlink\">€110.00m <span class=\"icons_sprite top-value-ten\" title=\"Previous market value: €100.00m; Highest value in career: €110.00m\"> </span></td>,\n",
       " <td class=\"rechts hauptlink\">€85.00m <span class=\"icons_sprite top-value-ten\" title=\"Previous market value: €55.00m; Highest value in career: €85.00m\"> </span></td>,\n",
       " <td class=\"rechts hauptlink\">€80.00m <span class=\"icons_sprite top-value-ten\" title=\"Previous market value: €60.00m; Highest value in career: €80.00m\"> </span></td>,\n",
       " <td class=\"rechts hauptlink\">€80.00m <span class=\"icons_sprite green-arrow-ten\" title=\"Previous market value: €55.00m; Highest value in career: €85.00m\"> </span></td>,\n",
       " <td class=\"rechts hauptlink\">€70.00m <span class=\"icons_sprite red-arrow-ten\" title=\"Previous market value: €80.00m; Highest value in career: €150.00m\"> </span></td>]"
      ]
     },
     "execution_count": 267,
     "metadata": {},
     "output_type": "execute_result"
    }
   ],
   "source": [
    "values"
   ]
  },
  {
   "cell_type": "code",
   "execution_count": 268,
   "metadata": {},
   "outputs": [],
   "source": [
    "for value in values:\n",
    "    value_list.append(value.text)"
   ]
  },
  {
   "cell_type": "code",
   "execution_count": 269,
   "metadata": {},
   "outputs": [
    {
     "data": {
      "text/plain": [
       "['€170.00m\\xa0',\n",
       " '€110.00m\\xa0',\n",
       " '€110.00m\\xa0\\xa0',\n",
       " '€90.00m\\xa0',\n",
       " '€85.00m\\xa0\\xa0',\n",
       " '€80.00m\\xa0',\n",
       " '€80.00m\\xa0',\n",
       " '€80.00m\\xa0\\xa0',\n",
       " '€80.00m\\xa0',\n",
       " '€80.00m\\xa0',\n",
       " '€80.00m\\xa0\\xa0',\n",
       " '€75.00m\\xa0',\n",
       " '€75.00m\\xa0',\n",
       " '€75.00m\\xa0',\n",
       " '€75.00m\\xa0',\n",
       " '€70.00m\\xa0\\xa0',\n",
       " '€70.00m\\xa0',\n",
       " '€70.00m\\xa0',\n",
       " '€70.00m\\xa0',\n",
       " '€70.00m\\xa0\\xa0',\n",
       " '€70.00m\\xa0\\xa0',\n",
       " '€65.00m\\xa0',\n",
       " '€65.00m\\xa0\\xa0',\n",
       " '€65.00m\\xa0\\xa0',\n",
       " '€60.00m\\xa0',\n",
       " '€110.00m\\xa0\\xa0',\n",
       " '€85.00m\\xa0\\xa0',\n",
       " '€80.00m\\xa0\\xa0',\n",
       " '€80.00m\\xa0\\xa0',\n",
       " '€70.00m\\xa0\\xa0']"
      ]
     },
     "execution_count": 269,
     "metadata": {},
     "output_type": "execute_result"
    }
   ],
   "source": [
    "value_list"
   ]
  },
  {
   "cell_type": "code",
   "execution_count": null,
   "metadata": {},
   "outputs": [],
   "source": []
  }
 ],
 "metadata": {
  "kernelspec": {
   "display_name": "Python 3",
   "language": "python",
   "name": "python3"
  },
  "language_info": {
   "codemirror_mode": {
    "name": "ipython",
    "version": 3
   },
   "file_extension": ".py",
   "mimetype": "text/x-python",
   "name": "python",
   "nbconvert_exporter": "python",
   "pygments_lexer": "ipython3",
   "version": "3.11.1"
  },
  "orig_nbformat": 4
 },
 "nbformat": 4,
 "nbformat_minor": 2
}
