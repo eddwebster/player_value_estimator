{
 "cells": [
  {
   "cell_type": "code",
   "execution_count": null,
   "metadata": {},
   "outputs": [],
   "source": [
    "pip install bs4"
   ]
  },
  {
   "cell_type": "code",
   "execution_count": null,
   "metadata": {},
   "outputs": [],
   "source": [
    "pip install html5lib"
   ]
  },
  {
   "cell_type": "code",
   "execution_count": 2,
   "metadata": {},
   "outputs": [],
   "source": [
    "from selenium import webdriver \n",
    "from selenium.common.exceptions import NoSuchElementException\n",
    "from selenium.webdriver.chrome.options import Options\n",
    "from selenium.webdriver.common.by import By\n",
    "from bs4 import BeautifulSoup\n",
    "import time\n",
    "import requests"
   ]
  },
  {
   "cell_type": "code",
   "execution_count": null,
   "metadata": {},
   "outputs": [],
   "source": []
  },
  {
   "cell_type": "code",
   "execution_count": 5,
   "metadata": {},
   "outputs": [],
   "source": [
    "\n",
    "headers = {'User-Agent': \"Mozilla/5.0 (Windows NT 10.0; Win64; x64) AppleWebKit/537.36 (KHTML, like Gecko) Chrome/111.0.0.0 Safari/537.36\"}\n",
    "#driver = webdriver.Chrome()\n",
    "#driver.get(URL)\n",
    "#time.sleep(3)\n",
    "#html = driver.page_source\n",
    "#soup = BeautifulSoup(html, 'html.parser')\n",
    "#r = requests.get(url=URL, headers=headers)\n",
    "#driver.switch_to.frame(\"sp_message_iframe_764224\") \n",
    "#element = driver.find_element(By.XPATH, '/html/body/div/div[2]/div[3]/div[2]/button').click()"
   ]
  },
  {
   "cell_type": "code",
   "execution_count": null,
   "metadata": {},
   "outputs": [],
   "source": [
    "element = driver.find_element(by=By.XPATH, value= '//*[title=\"ACCEPT ALL]' )\n",
    "element.click()"
   ]
  },
  {
   "cell_type": "code",
   "execution_count": null,
   "metadata": {},
   "outputs": [],
   "source": [
    "players_list = []\n",
    "age_list = []\n",
    "position_list = []\n",
    "value_list = []\n",
    "nationality_list = []"
   ]
  },
  {
   "cell_type": "code",
   "execution_count": null,
   "metadata": {},
   "outputs": [],
   "source": [
    "for pagenum in range(1, 5):\n",
    "    URL = \"https://www.transfermarkt.co.uk/premier-league/marktwerte/wettbewerb/GB1/page/\" +str(pagenum)\n",
    "    r = requests.get(url=URL, headers=headers)\n",
    "    soup = BeautifulSoup(r.content, 'html.parser')\n",
    "\n",
    "    players = soup.find_all(\"td\", class_=\"hauptlink\")\n",
    "    ages = soup.find_all(\"td\", class_=\"zentriert\")\n",
    "    nationality = soup.find_all(\"td\", class_=\"zentriert\")\n",
    "    values = soup.find_all(\"td\", class_=\"rechts hauptlink\")\n",
    "    "
   ]
  },
  {
   "cell_type": "code",
   "execution_count": null,
   "metadata": {},
   "outputs": [],
   "source": [
    "for pagenum in range(1, 5):\n",
    "    URL = \"https://www.transfermarkt.co.uk/premier-league/marktwerte/wettbewerb/GB1/page/\" + str(pagenum)\n",
    "    r = requests.get(url=URL, headers=headers)\n",
    "    soup = BeautifulSoup(r.content, 'html.parser')\n",
    "\n",
    "    players = soup.find_all(\"td\", class_=\"hauptlink\")\n",
    "    for player in players:\n",
    "        players_list.append(player.text)\n",
    "\n",
    "    ages = soup.find_all(\"td\", class_=\"zentriert\")\n",
    "    for age in ages:\n",
    "        age_list.append(age.text)\n",
    "        \n",
    "    nationalities = soup.find_all(\"td\", class_=\"zentriert\")\n",
    "    for nation in nationality:\n",
    "        flags = nation.find_all('img')  \n",
    "        if flags:  \n",
    "            first_flag = flags[0]  \n",
    "            first_nationality = first_flag['title']\n",
    "            nationality_list.append(first_nationality)\n",
    "    \n",
    "    values = soup.find_all(\"td\", class_=\"rechts hauptlink\")\n",
    "    for value in values:\n",
    "        value_list.append(value.text)"
   ]
  },
  {
   "cell_type": "code",
   "execution_count": null,
   "metadata": {},
   "outputs": [],
   "source": [
    "players"
   ]
  },
  {
   "cell_type": "code",
   "execution_count": null,
   "metadata": {},
   "outputs": [],
   "source": [
    "for player in players:\n",
    "    players_list.append(player.text)"
   ]
  },
  {
   "cell_type": "code",
   "execution_count": null,
   "metadata": {},
   "outputs": [],
   "source": [
    "players_list"
   ]
  },
  {
   "cell_type": "code",
   "execution_count": null,
   "metadata": {},
   "outputs": [],
   "source": [
    "\n",
    "i = 1\n",
    "while i < len(players_list):\n",
    "    del players_list[i]\n",
    "    i += 1\n",
    "print(players_list)\n"
   ]
  },
  {
   "cell_type": "code",
   "execution_count": null,
   "metadata": {},
   "outputs": [],
   "source": [
    "ages = soup.find_all(\"td\", class_=\"zentriert\")"
   ]
  },
  {
   "cell_type": "code",
   "execution_count": null,
   "metadata": {},
   "outputs": [],
   "source": [
    "ages"
   ]
  },
  {
   "cell_type": "code",
   "execution_count": null,
   "metadata": {},
   "outputs": [],
   "source": [
    "for age in ages:\n",
    "    age_list.append(age.text)"
   ]
  },
  {
   "cell_type": "code",
   "execution_count": null,
   "metadata": {},
   "outputs": [],
   "source": [
    "age_list"
   ]
  },
  {
   "cell_type": "code",
   "execution_count": null,
   "metadata": {},
   "outputs": [],
   "source": [
    "new_age_list = []\n",
    "for i in range(2, len(age_list), 4):\n",
    "    new_age_list.append(age_list[i])\n",
    "print(new_age_list)"
   ]
  },
  {
   "cell_type": "code",
   "execution_count": null,
   "metadata": {},
   "outputs": [],
   "source": [
    "new_age_list"
   ]
  },
  {
   "cell_type": "code",
   "execution_count": null,
   "metadata": {},
   "outputs": [],
   "source": [
    "nationality = soup.find_all(\"td\", class_=\"zentriert\")"
   ]
  },
  {
   "cell_type": "code",
   "execution_count": null,
   "metadata": {},
   "outputs": [],
   "source": [
    "nationality"
   ]
  },
  {
   "cell_type": "code",
   "execution_count": null,
   "metadata": {},
   "outputs": [],
   "source": [
    "\n",
    "for nation in nationality:\n",
    "    flags = nation.find_all('img')  \n",
    "    if flags:  \n",
    "        first_flag = flags[0]  \n",
    "        first_nationality = first_flag['title']\n",
    "        nationality_list.append(first_nationality)\n",
    "        print(first_nationality)\n"
   ]
  },
  {
   "cell_type": "code",
   "execution_count": null,
   "metadata": {},
   "outputs": [],
   "source": [
    "i = 1\n",
    "while i < len(nationality_list):\n",
    "    del nationality_list[i]\n",
    "    i += 1\n",
    "print(nationality_list)"
   ]
  },
  {
   "cell_type": "code",
   "execution_count": null,
   "metadata": {},
   "outputs": [],
   "source": [
    "values = soup.find_all(\"td\", class_=\"rechts hauptlink\")"
   ]
  },
  {
   "cell_type": "code",
   "execution_count": null,
   "metadata": {},
   "outputs": [],
   "source": [
    "values"
   ]
  },
  {
   "cell_type": "code",
   "execution_count": null,
   "metadata": {},
   "outputs": [],
   "source": [
    "for value in values:\n",
    "    value_list.append(value.text)"
   ]
  },
  {
   "cell_type": "code",
   "execution_count": null,
   "metadata": {},
   "outputs": [],
   "source": [
    "value_list"
   ]
  },
  {
   "cell_type": "code",
   "execution_count": 9,
   "metadata": {},
   "outputs": [
    {
     "name": "stdout",
     "output_type": "stream",
     "text": [
      "[['1', 'Erling Haaland \\n\\n\\nCentre-Forward', '', 'Erling Haaland', 'Centre-Forward', '', '22', '', '€170.00m'], ['', 'Erling Haaland'], ['Centre-Forward'], ['2', 'Phil Foden \\n\\n\\nLeft Winger', '', 'Phil Foden', 'Left Winger', '', '22', '', '€110.00m'], ['', 'Phil Foden'], ['Left Winger'], ['3', 'Bukayo Saka \\n\\n\\nRight Winger', '', 'Bukayo Saka', 'Right Winger', '', '21', '', '€110.00m'], ['', 'Bukayo Saka'], ['Right Winger'], ['4', 'Harry Kane \\n\\n\\nCentre-Forward', '', 'Harry Kane', 'Centre-Forward', '', '29', '', '€90.00m'], ['', 'Harry Kane'], ['Centre-Forward'], ['5', 'Enzo Fernández \\n\\n\\nCentral Midfield', '', 'Enzo Fernández', 'Central Midfield', '', '22', '', '€85.00m'], ['', 'Enzo Fernández'], ['Central Midfield'], ['6', 'Declan Rice \\n\\n\\nDefensive Midfield', '', 'Declan Rice', 'Defensive Midfield', '', '24', '', '€80.00m'], ['', 'Declan Rice'], ['Defensive Midfield'], ['7', 'Rodri \\n\\n\\nDefensive Midfield', '', 'Rodri', 'Defensive Midfield', '', '26', '', '€80.00m'], ['', 'Rodri'], ['Defensive Midfield'], ['8', 'Martin Ødegaard \\n\\n\\nAttacking Midfield', '', 'Martin Ødegaard', 'Attacking Midfield', '', '24', '', '€80.00m'], ['', 'Martin Ødegaard'], ['Attacking Midfield'], ['9', 'Kevin De Bruyne \\n\\n\\nAttacking Midfield', '', 'Kevin De Bruyne', 'Attacking Midfield', '', '31', '', '€80.00m'], ['', 'Kevin De Bruyne'], ['Attacking Midfield'], ['10', 'Bernardo Silva \\n\\n\\nAttacking Midfield', '', 'Bernardo Silva', 'Attacking Midfield', '', '28', '', '€80.00m'], ['', 'Bernardo Silva'], ['Attacking Midfield'], ['11', 'Marcus Rashford \\n\\n\\nLeft Winger', '', 'Marcus Rashford', 'Left Winger', '', '25', '', '€80.00m'], ['', 'Marcus Rashford'], ['Left Winger'], ['12', 'Gabriel Jesus \\n\\n\\nCentre-Forward', '', 'Gabriel Jesus', 'Centre-Forward', '', '25', '', '€75.00m'], ['', 'Gabriel Jesus'], ['Centre-Forward'], ['13', 'Luis Díaz \\n\\n\\nLeft Winger', '', 'Luis Díaz', 'Left Winger', '', '26', '', '€75.00m'], ['', 'Luis Díaz'], ['Left Winger'], ['14', 'Bruno Fernandes \\n\\n\\nAttacking Midfield', '', 'Bruno Fernandes', 'Attacking Midfield', '', '28', '', '€75.00m'], ['', 'Bruno Fernandes'], ['Attacking Midfield'], ['15', 'Rúben Dias \\n\\n\\nCentre-Back', '', 'Rúben Dias', 'Centre-Back', '', '25', '', '€75.00m'], ['', 'Rúben Dias'], ['Centre-Back'], ['16', 'Mohamed Salah \\n\\n\\nRight Winger', '', 'Mohamed Salah', 'Right Winger', '', '30', '', '€70.00m'], ['', 'Mohamed Salah'], ['Right Winger'], ['17', 'Reece James \\n\\n\\nRight-Back', '', 'Reece James', 'Right-Back', '', '23', '', '€70.00m'], ['', 'Reece James'], ['Right-Back'], ['18', 'Jack Grealish \\n\\n\\nLeft Winger', '', 'Jack Grealish', 'Left Winger', '', '27', '', '€70.00m'], ['', 'Jack Grealish'], ['Left Winger'], ['19', 'Darwin Núñez \\n\\n\\nCentre-Forward', '', 'Darwin Núñez', 'Centre-Forward', '', '23', '', '€70.00m'], ['', 'Darwin Núñez'], ['Centre-Forward'], ['20', 'Antony \\n\\n\\nRight Winger', '', 'Antony', 'Right Winger', '', '23', '', '€70.00m'], ['', 'Antony'], ['Right Winger'], ['21', 'Gabriel Martinelli \\n\\n\\nLeft Winger', '', 'Gabriel Martinelli', 'Left Winger', '', '21', '', '€70.00m'], ['', 'Gabriel Martinelli'], ['Left Winger'], ['22', 'Wesley Fofana \\n\\n\\nCentre-Back', '', 'Wesley Fofana', 'Centre-Back', '', '22', '', '€65.00m'], ['', 'Wesley Fofana'], ['Centre-Back'], ['23', 'Mason Mount \\n\\n\\nAttacking Midfield', '', 'Mason Mount', 'Attacking Midfield', '', '24', '', '€65.00m'], ['', 'Mason Mount'], ['Attacking Midfield'], ['24', 'Trent Alexander-Arnold \\n\\n\\nRight-Back', '', 'Trent Alexander-Arnold', 'Right-Back', '', '24', '', '€65.00m'], ['', 'Trent Alexander-Arnold'], ['Right-Back'], ['25', 'Cody Gakpo \\n\\n\\nLeft Winger', '', 'Cody Gakpo', 'Left Winger', '', '23', '', '€60.00m'], ['', 'Cody Gakpo'], ['Left Winger']]\n",
      "75\n",
      "[['26', 'Bruno Guimarães \\n\\n\\nDefensive Midfield', '', 'Bruno Guimarães', 'Defensive Midfield', '', '25', '', '€60.00m'], ['', 'Bruno Guimarães'], ['Defensive Midfield'], ['27', 'Cristian Romero \\n\\n\\nCentre-Back', '', 'Cristian Romero', 'Centre-Back', '', '24', '', '€60.00m'], ['', 'Cristian Romero'], ['Centre-Back'], ['28', 'Kai Havertz \\n\\n\\nAttacking Midfield', '', 'Kai Havertz', 'Attacking Midfield', '', '23', '', '€60.00m'], ['', 'Kai Havertz'], ['Attacking Midfield'], ['29', 'Mykhaylo Mudryk \\n\\n\\nLeft Winger', '', 'Mykhaylo Mudryk', 'Left Winger', '', '22', '', '€60.00m'], ['', 'Mykhaylo Mudryk'], ['Left Winger'], ['30', 'Raheem Sterling \\n\\n\\nLeft Winger', '', 'Raheem Sterling', 'Left Winger', '', '28', '', '€60.00m'], ['', 'Raheem Sterling'], ['Left Winger'], ['31', 'Heung-min Son \\n\\n\\nLeft Winger', '', 'Heung-min Son', 'Left Winger', '', '30', '', '€60.00m'], ['', 'Heung-min Son'], ['Left Winger'], ['32', 'William Saliba \\n\\n\\nCentre-Back', '', 'William Saliba', 'Centre-Back', '', '21', '', '€55.00m'], ['', 'William Saliba'], ['Centre-Back'], ['33', 'Diogo Jota \\n\\n\\nLeft Winger', '', 'Diogo Jota', 'Left Winger', '', '26', '', '€55.00m'], ['', 'Diogo Jota'], ['Left Winger'], ['34', 'Dejan Kulusevski \\n\\n\\nRight Winger', '', 'Dejan Kulusevski', 'Right Winger', '', '22', '', '€55.00m'], ['', 'Dejan Kulusevski'], ['Right Winger'], ['35', 'Jadon Sancho \\n\\n\\nLeft Winger', '', 'Jadon Sancho', 'Left Winger', '', '22', '', '€55.00m'], ['', 'Jadon Sancho'], ['Left Winger'], ['36', 'Richarlison \\n\\n\\nCentre-Forward', '', 'Richarlison', 'Centre-Forward', '', '25', '', '€55.00m'], ['', 'Richarlison'], ['Centre-Forward'], ['37', 'James Maddison \\n\\n\\nAttacking Midfield', '', 'James Maddison', 'Attacking Midfield', '', '26', '', '€55.00m'], ['', 'James Maddison'], ['Attacking Midfield'], ['38', 'Moisés Caicedo \\n\\n\\nCentral Midfield', '', 'Moisés Caicedo', 'Central Midfield', '', '21', '', '€55.00m'], ['', 'Moisés Caicedo'], ['Central Midfield'], ['39', 'Julián Álvarez \\n\\n\\nCentre-Forward', '', 'Julián Álvarez', 'Centre-Forward', '', '23', '', '€50.00m'], ['', 'Julián Álvarez'], ['Centre-Forward'], ['40', 'Gabriel Magalhães \\n\\n\\nCentre-Back', '', 'Gabriel Magalhães', 'Centre-Back', '', '25', '', '€50.00m'], ['', 'Gabriel Magalhães'], ['Centre-Back'], ['41', 'Casemiro \\n\\n\\nDefensive Midfield', '', 'Casemiro', 'Defensive Midfield', '', '31', '', '€50.00m'], ['', 'Casemiro'], ['Defensive Midfield'], ['42', 'Ben White \\n\\n\\nRight-Back', '', 'Ben White', 'Right-Back', '', '25', '', '€50.00m'], ['', 'Ben White'], ['Right-Back'], ['43', 'Ivan Toney \\n\\n\\nCentre-Forward', '', 'Ivan Toney', 'Centre-Forward', '', '27', '', '€50.00m'], ['', 'Ivan Toney'], ['Centre-Forward'], ['44', 'Alexander Isak \\n\\n\\nCentre-Forward', '', 'Alexander Isak', 'Centre-Forward', '', '23', '', '€50.00m'], ['', 'Alexander Isak'], ['Centre-Forward'], ['45', 'João Félix \\n\\n\\nSecond Striker', '', 'João Félix', 'Second Striker', '', '23', '', '€50.00m'], ['', 'João Félix'], ['Second Striker'], ['46', 'Lisandro Martínez \\n\\n\\nCentre-Back', '', 'Lisandro Martínez', 'Centre-Back', '', '25', '', '€50.00m'], ['', 'Lisandro Martínez'], ['Centre-Back'], ['47', 'Andrew Robertson \\n\\n\\nLeft-Back', '', 'Andrew Robertson', 'Left-Back', '', '29', '', '€48.00m'], ['', 'Andrew Robertson'], ['Left-Back'], ['48', 'Fabinho \\n\\n\\nDefensive Midfield', '', 'Fabinho', 'Defensive Midfield', '', '29', '', '€45.00m'], ['', 'Fabinho'], ['Defensive Midfield'], ['49', 'Pierre-Emile Höjbjerg \\n\\n\\nCentral Midfield', '', 'Pierre-Emile Höjbjerg', 'Central Midfield', '', '27', '', '€45.00m'], ['', 'Pierre-Emile Höjbjerg'], ['Central Midfield'], ['50', 'Alisson \\n\\n\\nGoalkeeper', '', 'Alisson', 'Goalkeeper', '', '30', '', '€45.00m'], ['', 'Alisson'], ['Goalkeeper']]\n",
      "75\n",
      "[['51', 'Ederson \\n\\n\\nGoalkeeper', '', 'Ederson', 'Goalkeeper', '', '29', '', '€45.00m'], ['', 'Ederson'], ['Goalkeeper'], ['52', 'Lucas Paquetá \\n\\n\\nAttacking Midfield', '', 'Lucas Paquetá', 'Attacking Midfield', '', '25', '', '€45.00m'], ['', 'Lucas Paquetá'], ['Attacking Midfield'], ['53', 'Virgil van Dijk \\n\\n\\nCentre-Back', '', 'Virgil van Dijk', 'Centre-Back', '', '31', '', '€45.00m'], ['', 'Virgil van Dijk'], ['Centre-Back'], ['54', 'Matheus Nunes \\n\\n\\nCentral Midfield', '', 'Matheus Nunes', 'Central Midfield', '', '24', '', '€45.00m'], ['', 'Matheus Nunes'], ['Central Midfield'], ['55', 'Sven Botman \\n\\n\\nCentre-Back', '', 'Sven Botman', 'Centre-Back', '', '23', '', '€45.00m'], ['', 'Sven Botman'], ['Centre-Back'], ['56', 'Amadou Onana \\n\\n\\nDefensive Midfield', '', 'Amadou Onana', 'Defensive Midfield', '', '21', '', '€42.00m'], ['', 'Amadou Onana'], ['Defensive Midfield'], ['57', 'Alexis Mac Allister \\n\\n\\nCentral Midfield', '', 'Alexis Mac Allister', 'Central Midfield', '', '24', '', '€42.00m'], ['', 'Alexis Mac Allister'], ['Central Midfield'], ['58', 'Anthony Gordon \\n\\n\\nLeft Winger', '', 'Anthony Gordon', 'Left Winger', '', '22', '', '€40.00m'], ['', 'Anthony Gordon'], ['Left Winger'], ['59', 'Rodrigo Bentancur \\n\\n\\nCentral Midfield', '', 'Rodrigo Bentancur', 'Central Midfield', '', '25', '', '€40.00m'], ['', 'Rodrigo Bentancur'], ['Central Midfield'], ['60', 'Marc Cucurella \\n\\n\\nLeft-Back', '', 'Marc Cucurella', 'Left-Back', '', '24', '', '€40.00m'], ['', 'Marc Cucurella'], ['Left-Back'], ['61', 'Raphaël Varane \\n\\n\\nCentre-Back', '', 'Raphaël Varane', 'Centre-Back', '', '29', '', '€40.00m'], ['', 'Raphaël Varane'], ['Centre-Back'], ['62', 'Rúben Neves \\n\\n\\nDefensive Midfield', '', 'Rúben Neves', 'Defensive Midfield', '', '26', '', '€40.00m'], ['', 'Rúben Neves'], ['Defensive Midfield'], ['63', 'Oleksandr Zinchenko \\n\\n\\nLeft-Back', '', 'Oleksandr Zinchenko', 'Left-Back', '', '26', '', '€40.00m'], ['', 'Oleksandr Zinchenko'], ['Left-Back'], ['64', 'Benoît Badiashile \\n\\n\\nCentre-Back', '', 'Benoît Badiashile', 'Centre-Back', '', '21', '', '€40.00m'], ['', 'Benoît Badiashile'], ['Centre-Back'], ['65', 'Mateo Kovacic \\n\\n\\nCentral Midfield', '', 'Mateo Kovacic', 'Central Midfield', '', '28', '', '€40.00m'], ['', 'Mateo Kovacic'], ['Central Midfield'], ['66', 'James Ward-Prowse \\n\\n\\nCentral Midfield', '', 'James Ward-Prowse', 'Central Midfield', '', '28', '', '€38.00m'], ['', 'James Ward-Prowse'], ['Central Midfield'], ['67', 'Joelinton \\n\\n\\nAttacking Midfield', '', 'Joelinton', 'Attacking Midfield', '', '26', '', '€38.00m'], ['', 'Joelinton'], ['Attacking Midfield'], ['68', 'Emile Smith Rowe \\n\\n\\nAttacking Midfield', '', 'Emile Smith Rowe', 'Attacking Midfield', '', '22', '', '€38.00m'], ['', 'Emile Smith Rowe'], ['Attacking Midfield'], ['69', 'Jarrod Bowen \\n\\n\\nRight Winger', '', 'Jarrod Bowen', 'Right Winger', '', '26', '', '€38.00m'], ['', 'Jarrod Bowen'], ['Right Winger'], ['70', 'Aaron Ramsdale \\n\\n\\nGoalkeeper', '', 'Aaron Ramsdale', 'Goalkeeper', '', '24', '', '€38.00m'], ['', 'Aaron Ramsdale'], ['Goalkeeper'], ['71', 'Thomas Partey \\n\\n\\nDefensive Midfield', '', 'Thomas Partey', 'Defensive Midfield', '', '29', '', '€38.00m'], ['', 'Thomas Partey'], ['Defensive Midfield'], ['72', 'Nathan Aké \\n\\n\\nCentre-Back', '', 'Nathan Aké', 'Centre-Back', '', '28', '', '€35.00m'], ['', 'Nathan Aké'], ['Centre-Back'], ['73', 'Ben Chilwell \\n\\n\\nLeft-Back', '', 'Ben Chilwell', 'Left-Back', '', '26', '', '€35.00m'], ['', 'Ben Chilwell'], ['Left-Back'], ['74', 'Luke Shaw \\n\\n\\nLeft-Back', '', 'Luke Shaw', 'Left-Back', '', '27', '', '€35.00m'], ['', 'Luke Shaw'], ['Left-Back'], ['75', 'João Palhinha \\n\\n\\nDefensive Midfield', '', 'João Palhinha', 'Defensive Midfield', '', '27', '', '€35.00m'], ['', 'João Palhinha'], ['Defensive Midfield']]\n",
      "75\n",
      "[['76', 'Kalvin Phillips \\n\\n\\nDefensive Midfield', '', 'Kalvin Phillips', 'Defensive Midfield', '', '27', '', '€35.00m'], ['', 'Kalvin Phillips'], ['Defensive Midfield'], ['77', 'Jorginho \\n\\n\\nDefensive Midfield', '', 'Jorginho', 'Defensive Midfield', '', '31', '', '€35.00m'], ['', 'Jorginho'], ['Defensive Midfield'], ['78', 'Marc Guéhi \\n\\n\\nCentre-Back', '', 'Marc Guéhi', 'Centre-Back', '', '22', '', '€35.00m'], ['', 'Marc Guéhi'], ['Centre-Back'], ['79', 'Tomas Soucek \\n\\n\\nDefensive Midfield', '', 'Tomas Soucek', 'Defensive Midfield', '', '28', '', '€35.00m'], ['', 'Tomas Soucek'], ['Defensive Midfield'], ['80', 'Ibrahima Konaté \\n\\n\\nCentre-Back', '', 'Ibrahima Konaté', 'Centre-Back', '', '23', '', '€35.00m'], ['', 'Ibrahima Konaté'], ['Centre-Back'], ['81', 'Diogo Dalot \\n\\n\\nRight-Back', '', 'Diogo Dalot', 'Right-Back', '', '24', '', '€35.00m'], ['', 'Diogo Dalot'], ['Right-Back'], ['82', 'Douglas Luiz \\n\\n\\nCentral Midfield', '', 'Douglas Luiz', 'Central Midfield', '', '24', '', '€35.00m'], ['', 'Douglas Luiz'], ['Central Midfield'], ['83', 'Allan Saint-Maximin \\n\\n\\nLeft Winger', '', 'Allan Saint-Maximin', 'Left Winger', '', '26', '', '€35.00m'], ['', 'Allan Saint-Maximin'], ['Left Winger'], ['84', 'Harvey Elliott \\n\\n\\nAttacking Midfield', '', 'Harvey Elliott', 'Attacking Midfield', '', '19', '', '€35.00m'], ['', 'Harvey Elliott'], ['Attacking Midfield'], ['85', 'Pedro Porro \\n\\n\\nRight-Back', '', 'Pedro Porro', 'Right-Back', '', '23', '', '€35.00m'], ['', 'Pedro Porro'], ['Right-Back'], ['86', 'Miguel Almirón \\n\\n\\nRight Winger', '', 'Miguel Almirón', 'Right Winger', '', '29', '', '€35.00m'], ['', 'Miguel Almirón'], ['Right Winger'], ['87', 'Robert Sánchez \\n\\n\\nGoalkeeper', '', 'Robert Sánchez', 'Goalkeeper', '', '25', '', '€32.00m'], ['', 'Robert Sánchez'], ['Goalkeeper'], ['88', 'Nayef Aguerd \\n\\n\\nCentre-Back', '', 'Nayef Aguerd', 'Centre-Back', '', '26', '', '€32.00m'], ['', 'Nayef Aguerd'], ['Centre-Back'], ['89', 'Conor Gallagher \\n\\n\\nCentral Midfield', '', 'Conor Gallagher', 'Central Midfield', '', '23', '', '€32.00m'], ['', 'Conor Gallagher'], ['Central Midfield'], ['90', 'Wilfred Ndidi \\n\\n\\nDefensive Midfield', '', 'Wilfred Ndidi', 'Defensive Midfield', '', '26', '', '€32.00m'], ['', 'Wilfred Ndidi'], ['Defensive Midfield'], ['91', 'Joachim Andersen \\n\\n\\nCentre-Back', '', 'Joachim Andersen', 'Centre-Back', '', '26', '', '€32.00m'], ['', 'Joachim Andersen'], ['Centre-Back'], ['92', 'Ollie Watkins \\n\\n\\nCentre-Forward', '', 'Ollie Watkins', 'Centre-Forward', '', '27', '', '€32.00m'], ['', 'Ollie Watkins'], ['Centre-Forward'], ['93', 'Christian Pulisic \\n\\n\\nRight Winger', '', 'Christian Pulisic', 'Right Winger', '', '24', '', '€32.00m'], ['', 'Christian Pulisic'], ['Right Winger'], ['94', 'Pedro Neto \\n\\n\\nRight Winger', '', 'Pedro Neto', 'Right Winger', '', '23', '', '€32.00m'], ['', 'Pedro Neto'], ['Right Winger'], ['95', 'Jacob Ramsey \\n\\n\\nCentral Midfield', '', 'Jacob Ramsey', 'Central Midfield', '', '21', '', '€32.00m'], ['', 'Jacob Ramsey'], ['Central Midfield'], ['96', 'Harvey Barnes \\n\\n\\nLeft Winger', '', 'Harvey Barnes', 'Left Winger', '', '25', '', '€32.00m'], ['', 'Harvey Barnes'], ['Left Winger'], ['97', 'Morgan Gibbs-White \\n\\n\\nAttacking Midfield', '', 'Morgan Gibbs-White', 'Attacking Midfield', '', '23', '', '€30.00m'], ['', 'Morgan Gibbs-White'], ['Attacking Midfield'], ['98', 'Youri Tielemans \\n\\n\\nCentral Midfield', '', 'Youri Tielemans', 'Central Midfield', '', '25', '', '€30.00m'], ['', 'Youri Tielemans'], ['Central Midfield'], ['99', 'Brenden Aaronson \\n\\n\\nAttacking Midfield', '', 'Brenden Aaronson', 'Attacking Midfield', '', '22', '', '€30.00m'], ['', 'Brenden Aaronson'], ['Attacking Midfield'], ['100', 'John Stones \\n\\n\\nCentre-Back', '', 'John Stones', 'Centre-Back', '', '28', '', '€30.00m'], ['', 'John Stones'], ['Centre-Back']]\n",
      "75\n"
     ]
    }
   ],
   "source": [
    "all_players = []\n",
    "\n",
    "for pagenum in range(1, 5):\n",
    "    URL = \"https://www.transfermarkt.co.uk/premier-league/marktwerte/wettbewerb/GB1/page/\" + str(pagenum)\n",
    "    r = requests.get(url=URL, headers=headers)\n",
    "    soup = BeautifulSoup(r.content, 'html.parser')\n",
    "    table = soup.find(\"table\", class_='items')\n",
    "    tbody = table.find(\"tbody\")\n",
    "    rows = tbody.find_all(\"tr\")\n",
    "\n",
    "    for row in rows:\n",
    "        cols = row.find_all('td')\n",
    "        cols = [col.text.strip() for col in cols]\n",
    "        all_players.append(cols)\n",
    "\n",
    "    print(all_players)\n",
    "    print(len(all_players))\n"
   ]
  },
  {
   "cell_type": "code",
   "execution_count": 8,
   "metadata": {},
   "outputs": [
    {
     "data": {
      "text/plain": [
       "[['76',\n",
       "  'Kalvin Phillips \\n\\n\\nDefensive Midfield',\n",
       "  '',\n",
       "  'Kalvin Phillips',\n",
       "  'Defensive Midfield',\n",
       "  '',\n",
       "  '27',\n",
       "  '',\n",
       "  '€35.00m'],\n",
       " ['', 'Kalvin Phillips'],\n",
       " ['Defensive Midfield'],\n",
       " ['77',\n",
       "  'Jorginho \\n\\n\\nDefensive Midfield',\n",
       "  '',\n",
       "  'Jorginho',\n",
       "  'Defensive Midfield',\n",
       "  '',\n",
       "  '31',\n",
       "  '',\n",
       "  '€35.00m'],\n",
       " ['', 'Jorginho'],\n",
       " ['Defensive Midfield'],\n",
       " ['78',\n",
       "  'Marc Guéhi \\n\\n\\nCentre-Back',\n",
       "  '',\n",
       "  'Marc Guéhi',\n",
       "  'Centre-Back',\n",
       "  '',\n",
       "  '22',\n",
       "  '',\n",
       "  '€35.00m'],\n",
       " ['', 'Marc Guéhi'],\n",
       " ['Centre-Back'],\n",
       " ['79',\n",
       "  'Tomas Soucek \\n\\n\\nDefensive Midfield',\n",
       "  '',\n",
       "  'Tomas Soucek',\n",
       "  'Defensive Midfield',\n",
       "  '',\n",
       "  '28',\n",
       "  '',\n",
       "  '€35.00m'],\n",
       " ['', 'Tomas Soucek'],\n",
       " ['Defensive Midfield'],\n",
       " ['80',\n",
       "  'Ibrahima Konaté \\n\\n\\nCentre-Back',\n",
       "  '',\n",
       "  'Ibrahima Konaté',\n",
       "  'Centre-Back',\n",
       "  '',\n",
       "  '23',\n",
       "  '',\n",
       "  '€35.00m'],\n",
       " ['', 'Ibrahima Konaté'],\n",
       " ['Centre-Back'],\n",
       " ['81',\n",
       "  'Diogo Dalot \\n\\n\\nRight-Back',\n",
       "  '',\n",
       "  'Diogo Dalot',\n",
       "  'Right-Back',\n",
       "  '',\n",
       "  '24',\n",
       "  '',\n",
       "  '€35.00m'],\n",
       " ['', 'Diogo Dalot'],\n",
       " ['Right-Back'],\n",
       " ['82',\n",
       "  'Douglas Luiz \\n\\n\\nCentral Midfield',\n",
       "  '',\n",
       "  'Douglas Luiz',\n",
       "  'Central Midfield',\n",
       "  '',\n",
       "  '24',\n",
       "  '',\n",
       "  '€35.00m'],\n",
       " ['', 'Douglas Luiz'],\n",
       " ['Central Midfield'],\n",
       " ['83',\n",
       "  'Allan Saint-Maximin \\n\\n\\nLeft Winger',\n",
       "  '',\n",
       "  'Allan Saint-Maximin',\n",
       "  'Left Winger',\n",
       "  '',\n",
       "  '26',\n",
       "  '',\n",
       "  '€35.00m'],\n",
       " ['', 'Allan Saint-Maximin'],\n",
       " ['Left Winger'],\n",
       " ['84',\n",
       "  'Harvey Elliott \\n\\n\\nAttacking Midfield',\n",
       "  '',\n",
       "  'Harvey Elliott',\n",
       "  'Attacking Midfield',\n",
       "  '',\n",
       "  '19',\n",
       "  '',\n",
       "  '€35.00m'],\n",
       " ['', 'Harvey Elliott'],\n",
       " ['Attacking Midfield'],\n",
       " ['85',\n",
       "  'Pedro Porro \\n\\n\\nRight-Back',\n",
       "  '',\n",
       "  'Pedro Porro',\n",
       "  'Right-Back',\n",
       "  '',\n",
       "  '23',\n",
       "  '',\n",
       "  '€35.00m'],\n",
       " ['', 'Pedro Porro'],\n",
       " ['Right-Back'],\n",
       " ['86',\n",
       "  'Miguel Almirón \\n\\n\\nRight Winger',\n",
       "  '',\n",
       "  'Miguel Almirón',\n",
       "  'Right Winger',\n",
       "  '',\n",
       "  '29',\n",
       "  '',\n",
       "  '€35.00m'],\n",
       " ['', 'Miguel Almirón'],\n",
       " ['Right Winger'],\n",
       " ['87',\n",
       "  'Robert Sánchez \\n\\n\\nGoalkeeper',\n",
       "  '',\n",
       "  'Robert Sánchez',\n",
       "  'Goalkeeper',\n",
       "  '',\n",
       "  '25',\n",
       "  '',\n",
       "  '€32.00m'],\n",
       " ['', 'Robert Sánchez'],\n",
       " ['Goalkeeper'],\n",
       " ['88',\n",
       "  'Nayef Aguerd \\n\\n\\nCentre-Back',\n",
       "  '',\n",
       "  'Nayef Aguerd',\n",
       "  'Centre-Back',\n",
       "  '',\n",
       "  '26',\n",
       "  '',\n",
       "  '€32.00m'],\n",
       " ['', 'Nayef Aguerd'],\n",
       " ['Centre-Back'],\n",
       " ['89',\n",
       "  'Conor Gallagher \\n\\n\\nCentral Midfield',\n",
       "  '',\n",
       "  'Conor Gallagher',\n",
       "  'Central Midfield',\n",
       "  '',\n",
       "  '23',\n",
       "  '',\n",
       "  '€32.00m'],\n",
       " ['', 'Conor Gallagher'],\n",
       " ['Central Midfield'],\n",
       " ['90',\n",
       "  'Wilfred Ndidi \\n\\n\\nDefensive Midfield',\n",
       "  '',\n",
       "  'Wilfred Ndidi',\n",
       "  'Defensive Midfield',\n",
       "  '',\n",
       "  '26',\n",
       "  '',\n",
       "  '€32.00m'],\n",
       " ['', 'Wilfred Ndidi'],\n",
       " ['Defensive Midfield'],\n",
       " ['91',\n",
       "  'Joachim Andersen \\n\\n\\nCentre-Back',\n",
       "  '',\n",
       "  'Joachim Andersen',\n",
       "  'Centre-Back',\n",
       "  '',\n",
       "  '26',\n",
       "  '',\n",
       "  '€32.00m'],\n",
       " ['', 'Joachim Andersen'],\n",
       " ['Centre-Back'],\n",
       " ['92',\n",
       "  'Ollie Watkins \\n\\n\\nCentre-Forward',\n",
       "  '',\n",
       "  'Ollie Watkins',\n",
       "  'Centre-Forward',\n",
       "  '',\n",
       "  '27',\n",
       "  '',\n",
       "  '€32.00m'],\n",
       " ['', 'Ollie Watkins'],\n",
       " ['Centre-Forward'],\n",
       " ['93',\n",
       "  'Christian Pulisic \\n\\n\\nRight Winger',\n",
       "  '',\n",
       "  'Christian Pulisic',\n",
       "  'Right Winger',\n",
       "  '',\n",
       "  '24',\n",
       "  '',\n",
       "  '€32.00m'],\n",
       " ['', 'Christian Pulisic'],\n",
       " ['Right Winger'],\n",
       " ['94',\n",
       "  'Pedro Neto \\n\\n\\nRight Winger',\n",
       "  '',\n",
       "  'Pedro Neto',\n",
       "  'Right Winger',\n",
       "  '',\n",
       "  '23',\n",
       "  '',\n",
       "  '€32.00m'],\n",
       " ['', 'Pedro Neto'],\n",
       " ['Right Winger'],\n",
       " ['95',\n",
       "  'Jacob Ramsey \\n\\n\\nCentral Midfield',\n",
       "  '',\n",
       "  'Jacob Ramsey',\n",
       "  'Central Midfield',\n",
       "  '',\n",
       "  '21',\n",
       "  '',\n",
       "  '€32.00m'],\n",
       " ['', 'Jacob Ramsey'],\n",
       " ['Central Midfield'],\n",
       " ['96',\n",
       "  'Harvey Barnes \\n\\n\\nLeft Winger',\n",
       "  '',\n",
       "  'Harvey Barnes',\n",
       "  'Left Winger',\n",
       "  '',\n",
       "  '25',\n",
       "  '',\n",
       "  '€32.00m'],\n",
       " ['', 'Harvey Barnes'],\n",
       " ['Left Winger'],\n",
       " ['97',\n",
       "  'Morgan Gibbs-White \\n\\n\\nAttacking Midfield',\n",
       "  '',\n",
       "  'Morgan Gibbs-White',\n",
       "  'Attacking Midfield',\n",
       "  '',\n",
       "  '23',\n",
       "  '',\n",
       "  '€30.00m'],\n",
       " ['', 'Morgan Gibbs-White'],\n",
       " ['Attacking Midfield'],\n",
       " ['98',\n",
       "  'Youri Tielemans \\n\\n\\nCentral Midfield',\n",
       "  '',\n",
       "  'Youri Tielemans',\n",
       "  'Central Midfield',\n",
       "  '',\n",
       "  '25',\n",
       "  '',\n",
       "  '€30.00m'],\n",
       " ['', 'Youri Tielemans'],\n",
       " ['Central Midfield'],\n",
       " ['99',\n",
       "  'Brenden Aaronson \\n\\n\\nAttacking Midfield',\n",
       "  '',\n",
       "  'Brenden Aaronson',\n",
       "  'Attacking Midfield',\n",
       "  '',\n",
       "  '22',\n",
       "  '',\n",
       "  '€30.00m'],\n",
       " ['', 'Brenden Aaronson'],\n",
       " ['Attacking Midfield'],\n",
       " ['100',\n",
       "  'John Stones \\n\\n\\nCentre-Back',\n",
       "  '',\n",
       "  'John Stones',\n",
       "  'Centre-Back',\n",
       "  '',\n",
       "  '28',\n",
       "  '',\n",
       "  '€30.00m'],\n",
       " ['', 'John Stones'],\n",
       " ['Centre-Back']]"
      ]
     },
     "execution_count": 8,
     "metadata": {},
     "output_type": "execute_result"
    }
   ],
   "source": [
    "all_players"
   ]
  },
  {
   "cell_type": "code",
   "execution_count": null,
   "metadata": {},
   "outputs": [],
   "source": []
  }
 ],
 "metadata": {
  "kernelspec": {
   "display_name": "Python 3",
   "language": "python",
   "name": "python3"
  },
  "language_info": {
   "codemirror_mode": {
    "name": "ipython",
    "version": 3
   },
   "file_extension": ".py",
   "mimetype": "text/x-python",
   "name": "python",
   "nbconvert_exporter": "python",
   "pygments_lexer": "ipython3",
   "version": "3.11.1"
  },
  "orig_nbformat": 4
 },
 "nbformat": 4,
 "nbformat_minor": 2
}
